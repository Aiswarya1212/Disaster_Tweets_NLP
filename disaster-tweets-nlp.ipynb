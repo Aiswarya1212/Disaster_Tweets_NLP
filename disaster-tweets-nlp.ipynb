{
 "cells": [
  {
   "cell_type": "code",
   "execution_count": 1,
   "id": "f081a4eb",
   "metadata": {
    "_cell_guid": "b1076dfc-b9ad-4769-8c92-a6c4dae69d19",
    "_kg_hide-input": true,
    "_uuid": "8f2839f25d086af736a60e9eeb907d3b93b6e0e5",
    "execution": {
     "iopub.execute_input": "2021-08-01T11:19:16.831415Z",
     "iopub.status.busy": "2021-08-01T11:19:16.829966Z",
     "iopub.status.idle": "2021-08-01T11:19:17.915178Z",
     "shell.execute_reply": "2021-08-01T11:19:17.914360Z",
     "shell.execute_reply.started": "2021-08-01T11:04:25.931781Z"
    },
    "papermill": {
     "duration": 1.103229,
     "end_time": "2021-08-01T11:19:17.915346",
     "exception": false,
     "start_time": "2021-08-01T11:19:16.812117",
     "status": "completed"
    },
    "tags": []
   },
   "outputs": [
    {
     "name": "stdout",
     "output_type": "stream",
     "text": [
      "/kaggle/input/nlp-getting-started/sample_submission.csv\n",
      "/kaggle/input/nlp-getting-started/train.csv\n",
      "/kaggle/input/nlp-getting-started/test.csv\n"
     ]
    }
   ],
   "source": [
    "# This Python 3 environment comes with many helpful analytics libraries installed\n",
    "# It is defined by the kaggle/python Docker image: https://github.com/kaggle/docker-python\n",
    "# For example, here's several helpful packages to load\n",
    "\n",
    "import numpy as np # linear algebra\n",
    "import pandas as pd # data processing, CSV file I/O (e.g. pd.read_csv)\n",
    "import matplotlib.pyplot as plt\n",
    "import seaborn as sns\n",
    "\n",
    "# Input data files are available in the read-only \"../input/\" directory\n",
    "# For example, running this (by clicking run or pressing Shift+Enter) will list all files under the input directory\n",
    "\n",
    "import os\n",
    "for dirname, _, filenames in os.walk('/kaggle/input'):\n",
    "    for filename in filenames:\n",
    "        print(os.path.join(dirname, filename))\n",
    "\n",
    "# You can write up to 20GB to the current directory (/kaggle/working/) that gets preserved as output when you create a version using \"Save & Run All\" \n",
    "# You can also write temporary files to /kaggle/temp/, but they won't be saved outside of the current session"
   ]
  },
  {
   "cell_type": "code",
   "execution_count": 2,
   "id": "524a13ec",
   "metadata": {
    "execution": {
     "iopub.execute_input": "2021-08-01T11:19:17.950564Z",
     "iopub.status.busy": "2021-08-01T11:19:17.949711Z",
     "iopub.status.idle": "2021-08-01T11:19:18.051341Z",
     "shell.execute_reply": "2021-08-01T11:19:18.051813Z",
     "shell.execute_reply.started": "2021-08-01T11:04:25.942778Z"
    },
    "papermill": {
     "duration": 0.120972,
     "end_time": "2021-08-01T11:19:18.051984",
     "exception": false,
     "start_time": "2021-08-01T11:19:17.931012",
     "status": "completed"
    },
    "tags": []
   },
   "outputs": [
    {
     "data": {
      "text/html": [
       "<div>\n",
       "<style scoped>\n",
       "    .dataframe tbody tr th:only-of-type {\n",
       "        vertical-align: middle;\n",
       "    }\n",
       "\n",
       "    .dataframe tbody tr th {\n",
       "        vertical-align: top;\n",
       "    }\n",
       "\n",
       "    .dataframe thead th {\n",
       "        text-align: right;\n",
       "    }\n",
       "</style>\n",
       "<table border=\"1\" class=\"dataframe\">\n",
       "  <thead>\n",
       "    <tr style=\"text-align: right;\">\n",
       "      <th></th>\n",
       "      <th>id</th>\n",
       "      <th>keyword</th>\n",
       "      <th>location</th>\n",
       "      <th>text</th>\n",
       "      <th>target</th>\n",
       "    </tr>\n",
       "  </thead>\n",
       "  <tbody>\n",
       "    <tr>\n",
       "      <th>0</th>\n",
       "      <td>1</td>\n",
       "      <td>NaN</td>\n",
       "      <td>NaN</td>\n",
       "      <td>Our Deeds are the Reason of this #earthquake M...</td>\n",
       "      <td>1</td>\n",
       "    </tr>\n",
       "    <tr>\n",
       "      <th>1</th>\n",
       "      <td>4</td>\n",
       "      <td>NaN</td>\n",
       "      <td>NaN</td>\n",
       "      <td>Forest fire near La Ronge Sask. Canada</td>\n",
       "      <td>1</td>\n",
       "    </tr>\n",
       "    <tr>\n",
       "      <th>2</th>\n",
       "      <td>5</td>\n",
       "      <td>NaN</td>\n",
       "      <td>NaN</td>\n",
       "      <td>All residents asked to 'shelter in place' are ...</td>\n",
       "      <td>1</td>\n",
       "    </tr>\n",
       "    <tr>\n",
       "      <th>3</th>\n",
       "      <td>6</td>\n",
       "      <td>NaN</td>\n",
       "      <td>NaN</td>\n",
       "      <td>13,000 people receive #wildfires evacuation or...</td>\n",
       "      <td>1</td>\n",
       "    </tr>\n",
       "    <tr>\n",
       "      <th>4</th>\n",
       "      <td>7</td>\n",
       "      <td>NaN</td>\n",
       "      <td>NaN</td>\n",
       "      <td>Just got sent this photo from Ruby #Alaska as ...</td>\n",
       "      <td>1</td>\n",
       "    </tr>\n",
       "  </tbody>\n",
       "</table>\n",
       "</div>"
      ],
      "text/plain": [
       "   id keyword location                                               text  \\\n",
       "0   1     NaN      NaN  Our Deeds are the Reason of this #earthquake M...   \n",
       "1   4     NaN      NaN             Forest fire near La Ronge Sask. Canada   \n",
       "2   5     NaN      NaN  All residents asked to 'shelter in place' are ...   \n",
       "3   6     NaN      NaN  13,000 people receive #wildfires evacuation or...   \n",
       "4   7     NaN      NaN  Just got sent this photo from Ruby #Alaska as ...   \n",
       "\n",
       "   target  \n",
       "0       1  \n",
       "1       1  \n",
       "2       1  \n",
       "3       1  \n",
       "4       1  "
      ]
     },
     "execution_count": 2,
     "metadata": {},
     "output_type": "execute_result"
    }
   ],
   "source": [
    "data=pd.read_csv(\"/kaggle/input/nlp-getting-started/train.csv\") #train dataset\n",
    "test=pd.read_csv(\"/kaggle/input/nlp-getting-started/test.csv\") #test dataset\n",
    "data.head()"
   ]
  },
  {
   "cell_type": "code",
   "execution_count": 3,
   "id": "30abb4d1",
   "metadata": {
    "execution": {
     "iopub.execute_input": "2021-08-01T11:19:18.087747Z",
     "iopub.status.busy": "2021-08-01T11:19:18.086911Z",
     "iopub.status.idle": "2021-08-01T11:19:18.091047Z",
     "shell.execute_reply": "2021-08-01T11:19:18.090474Z",
     "shell.execute_reply.started": "2021-08-01T11:04:26.002927Z"
    },
    "papermill": {
     "duration": 0.024093,
     "end_time": "2021-08-01T11:19:18.091189",
     "exception": false,
     "start_time": "2021-08-01T11:19:18.067096",
     "status": "completed"
    },
    "tags": []
   },
   "outputs": [
    {
     "data": {
      "text/plain": [
       "((7613, 5), (3263, 4))"
      ]
     },
     "execution_count": 3,
     "metadata": {},
     "output_type": "execute_result"
    }
   ],
   "source": [
    "data.shape,test.shape"
   ]
  },
  {
   "cell_type": "code",
   "execution_count": 4,
   "id": "f582adc7",
   "metadata": {
    "execution": {
     "iopub.execute_input": "2021-08-01T11:19:18.123524Z",
     "iopub.status.busy": "2021-08-01T11:19:18.122931Z",
     "iopub.status.idle": "2021-08-01T11:19:18.131700Z",
     "shell.execute_reply": "2021-08-01T11:19:18.131168Z",
     "shell.execute_reply.started": "2021-08-01T11:04:26.011041Z"
    },
    "papermill": {
     "duration": 0.025881,
     "end_time": "2021-08-01T11:19:18.131857",
     "exception": false,
     "start_time": "2021-08-01T11:19:18.105976",
     "status": "completed"
    },
    "tags": []
   },
   "outputs": [
    {
     "data": {
      "text/plain": [
       "id             0\n",
       "keyword       61\n",
       "location    2533\n",
       "text           0\n",
       "target         0\n",
       "dtype: int64"
      ]
     },
     "execution_count": 4,
     "metadata": {},
     "output_type": "execute_result"
    }
   ],
   "source": [
    "data.isna().sum()"
   ]
  },
  {
   "cell_type": "code",
   "execution_count": 5,
   "id": "a409e911",
   "metadata": {
    "execution": {
     "iopub.execute_input": "2021-08-01T11:19:18.165495Z",
     "iopub.status.busy": "2021-08-01T11:19:18.164930Z",
     "iopub.status.idle": "2021-08-01T11:19:18.173059Z",
     "shell.execute_reply": "2021-08-01T11:19:18.172434Z",
     "shell.execute_reply.started": "2021-08-01T11:04:26.032324Z"
    },
    "papermill": {
     "duration": 0.026329,
     "end_time": "2021-08-01T11:19:18.173195",
     "exception": false,
     "start_time": "2021-08-01T11:19:18.146866",
     "status": "completed"
    },
    "tags": []
   },
   "outputs": [],
   "source": [
    "data=data.drop([\"location\"],axis=1)"
   ]
  },
  {
   "cell_type": "code",
   "execution_count": 6,
   "id": "12e104cf",
   "metadata": {
    "execution": {
     "iopub.execute_input": "2021-08-01T11:19:18.216111Z",
     "iopub.status.busy": "2021-08-01T11:19:18.210549Z",
     "iopub.status.idle": "2021-08-01T11:19:18.218699Z",
     "shell.execute_reply": "2021-08-01T11:19:18.218110Z",
     "shell.execute_reply.started": "2021-08-01T11:04:26.046996Z"
    },
    "papermill": {
     "duration": 0.030248,
     "end_time": "2021-08-01T11:19:18.218856",
     "exception": false,
     "start_time": "2021-08-01T11:19:18.188608",
     "status": "completed"
    },
    "tags": []
   },
   "outputs": [],
   "source": [
    "data.fillna(data.median(),inplace=True) #filling null values"
   ]
  },
  {
   "cell_type": "code",
   "execution_count": 7,
   "id": "d93f119f",
   "metadata": {
    "execution": {
     "iopub.execute_input": "2021-08-01T11:19:18.261978Z",
     "iopub.status.busy": "2021-08-01T11:19:18.261227Z",
     "iopub.status.idle": "2021-08-01T11:19:18.266431Z",
     "shell.execute_reply": "2021-08-01T11:19:18.264205Z",
     "shell.execute_reply.started": "2021-08-01T11:04:26.066758Z"
    },
    "papermill": {
     "duration": 0.032496,
     "end_time": "2021-08-01T11:19:18.266639",
     "exception": false,
     "start_time": "2021-08-01T11:19:18.234143",
     "status": "completed"
    },
    "tags": []
   },
   "outputs": [],
   "source": [
    "data=data.drop(['keyword'],axis=1)"
   ]
  },
  {
   "cell_type": "code",
   "execution_count": 8,
   "id": "1d48db72",
   "metadata": {
    "execution": {
     "iopub.execute_input": "2021-08-01T11:19:18.311070Z",
     "iopub.status.busy": "2021-08-01T11:19:18.310405Z",
     "iopub.status.idle": "2021-08-01T11:19:18.469876Z",
     "shell.execute_reply": "2021-08-01T11:19:18.470295Z",
     "shell.execute_reply.started": "2021-08-01T11:04:26.084513Z"
    },
    "papermill": {
     "duration": 0.180294,
     "end_time": "2021-08-01T11:19:18.470476",
     "exception": false,
     "start_time": "2021-08-01T11:19:18.290182",
     "status": "completed"
    },
    "tags": []
   },
   "outputs": [
    {
     "data": {
      "image/png": "[encoded data removed]",
      "text/plain": [
       "<Figure size 432x288 with 1 Axes>"
      ]
     },
     "metadata": {
      "needs_background": "light"
     },
     "output_type": "display_data"
    }
   ],
   "source": [
    "#checking total no of positive and negative tweets\n",
    "data.target.value_counts().plot(kind='bar',color='red') \n",
    "plt.show()"
   ]
  },
  {
   "cell_type": "code",
   "execution_count": 9,
   "id": "6855abd6",
   "metadata": {
    "execution": {
     "iopub.execute_input": "2021-08-01T11:19:18.506642Z",
     "iopub.status.busy": "2021-08-01T11:19:18.506042Z",
     "iopub.status.idle": "2021-08-01T11:19:19.467201Z",
     "shell.execute_reply": "2021-08-01T11:19:19.467626Z",
     "shell.execute_reply.started": "2021-08-01T11:04:26.197309Z"
    },
    "papermill": {
     "duration": 0.981771,
     "end_time": "2021-08-01T11:19:19.467843",
     "exception": false,
     "start_time": "2021-08-01T11:19:18.486072",
     "status": "completed"
    },
    "tags": []
   },
   "outputs": [],
   "source": [
    "import re   #for replacing\n",
    "import nltk  #for natural language processing\n",
    "from nltk.corpus import stopwords   #importing stopwords\n",
    "Stop=stopwords.words('english')\n",
    "stemmer=nltk.SnowballStemmer(\"english\")"
   ]
  },
  {
   "cell_type": "code",
   "execution_count": 10,
   "id": "39674bdd",
   "metadata": {
    "execution": {
     "iopub.execute_input": "2021-08-01T11:19:19.505617Z",
     "iopub.status.busy": "2021-08-01T11:19:19.505016Z",
     "iopub.status.idle": "2021-08-01T11:19:19.507927Z",
     "shell.execute_reply": "2021-08-01T11:19:19.507458Z",
     "shell.execute_reply.started": "2021-08-01T11:04:26.204821Z"
    },
    "papermill": {
     "duration": 0.024703,
     "end_time": "2021-08-01T11:19:19.508069",
     "exception": false,
     "start_time": "2021-08-01T11:19:19.483366",
     "status": "completed"
    },
    "tags": []
   },
   "outputs": [],
   "source": [
    "#text preprocessing for clean text.\n",
    "def newtweet(text):\n",
    "    text=str(text).lower()\n",
    "    text=re.sub(r'@\\s+|http\\s+|www.\\s+|\\n','',text) #removing links and urls\n",
    "    text=re.sub(r'[^A-Za-z0-9\\s]+','',text) #removing special characters\n",
    "    text=[stemmer.stem(word)for word in text.split(' ')] #stemming process\n",
    "    text=\" \".join([word for word in text if word not in Stop]) #checking for stopwords\n",
    "    text=text.strip()\n",
    "    return text #returning clean text"
   ]
  },
  {
   "cell_type": "code",
   "execution_count": 11,
   "id": "73d62f8c",
   "metadata": {
    "execution": {
     "iopub.execute_input": "2021-08-01T11:19:19.548642Z",
     "iopub.status.busy": "2021-08-01T11:19:19.543356Z",
     "iopub.status.idle": "2021-08-01T11:19:21.075854Z",
     "shell.execute_reply": "2021-08-01T11:19:21.075332Z",
     "shell.execute_reply.started": "2021-08-01T11:04:26.219874Z"
    },
    "papermill": {
     "duration": 1.552487,
     "end_time": "2021-08-01T11:19:21.076004",
     "exception": false,
     "start_time": "2021-08-01T11:19:19.523517",
     "status": "completed"
    },
    "tags": []
   },
   "outputs": [],
   "source": [
    "data[\"text\"]=data[\"text\"].apply(newtweet) #applying newtext in text column in train dataset"
   ]
  },
  {
   "cell_type": "code",
   "execution_count": 12,
   "id": "7e74748c",
   "metadata": {
    "execution": {
     "iopub.execute_input": "2021-08-01T11:19:21.142370Z",
     "iopub.status.busy": "2021-08-01T11:19:21.131950Z",
     "iopub.status.idle": "2021-08-01T11:19:21.764685Z",
     "shell.execute_reply": "2021-08-01T11:19:21.764115Z",
     "shell.execute_reply.started": "2021-08-01T11:04:27.726889Z"
    },
    "papermill": {
     "duration": 0.67339,
     "end_time": "2021-08-01T11:19:21.764849",
     "exception": false,
     "start_time": "2021-08-01T11:19:21.091459",
     "status": "completed"
    },
    "tags": []
   },
   "outputs": [],
   "source": [
    "test['text']=test['text'].apply(newtweet) #applying newtext in text  column in test dataset"
   ]
  },
  {
   "cell_type": "code",
   "execution_count": 13,
   "id": "5562ed8b",
   "metadata": {
    "execution": {
     "iopub.execute_input": "2021-08-01T11:19:21.804068Z",
     "iopub.status.busy": "2021-08-01T11:19:21.803052Z",
     "iopub.status.idle": "2021-08-01T11:19:21.806210Z",
     "shell.execute_reply": "2021-08-01T11:19:21.805682Z",
     "shell.execute_reply.started": "2021-08-01T11:04:28.375486Z"
    },
    "papermill": {
     "duration": 0.0257,
     "end_time": "2021-08-01T11:19:21.806359",
     "exception": false,
     "start_time": "2021-08-01T11:19:21.780659",
     "status": "completed"
    },
    "tags": []
   },
   "outputs": [],
   "source": [
    "test=test.drop({\"keyword\",\"location\"},axis=1) #dropping columns from test dataset"
   ]
  },
  {
   "cell_type": "code",
   "execution_count": 14,
   "id": "02768d6e",
   "metadata": {
    "execution": {
     "iopub.execute_input": "2021-08-01T11:19:21.844341Z",
     "iopub.status.busy": "2021-08-01T11:19:21.843413Z",
     "iopub.status.idle": "2021-08-01T11:19:21.846623Z",
     "shell.execute_reply": "2021-08-01T11:19:21.846173Z",
     "shell.execute_reply.started": "2021-08-01T11:04:28.382859Z"
    },
    "papermill": {
     "duration": 0.024777,
     "end_time": "2021-08-01T11:19:21.846778",
     "exception": false,
     "start_time": "2021-08-01T11:19:21.822001",
     "status": "completed"
    },
    "tags": []
   },
   "outputs": [],
   "source": [
    "#creating train datas\n",
    "trainx=data['text'] \n",
    "trainy=data['target']"
   ]
  },
  {
   "cell_type": "code",
   "execution_count": 15,
   "id": "edb1eb2d",
   "metadata": {
    "execution": {
     "iopub.execute_input": "2021-08-01T11:19:21.883119Z",
     "iopub.status.busy": "2021-08-01T11:19:21.882183Z",
     "iopub.status.idle": "2021-08-01T11:19:21.884921Z",
     "shell.execute_reply": "2021-08-01T11:19:21.884431Z",
     "shell.execute_reply.started": "2021-08-01T11:04:28.39893Z"
    },
    "papermill": {
     "duration": 0.022709,
     "end_time": "2021-08-01T11:19:21.885057",
     "exception": false,
     "start_time": "2021-08-01T11:19:21.862348",
     "status": "completed"
    },
    "tags": []
   },
   "outputs": [],
   "source": [
    "#creating test data.\n",
    "testx=test['text']"
   ]
  },
  {
   "cell_type": "code",
   "execution_count": 16,
   "id": "16d151ac",
   "metadata": {
    "execution": {
     "iopub.execute_input": "2021-08-01T11:19:21.919931Z",
     "iopub.status.busy": "2021-08-01T11:19:21.919341Z",
     "iopub.status.idle": "2021-08-01T11:19:21.926721Z",
     "shell.execute_reply": "2021-08-01T11:19:21.926211Z",
     "shell.execute_reply.started": "2021-08-01T11:04:28.4151Z"
    },
    "papermill": {
     "duration": 0.026665,
     "end_time": "2021-08-01T11:19:21.926870",
     "exception": false,
     "start_time": "2021-08-01T11:19:21.900205",
     "status": "completed"
    },
    "tags": []
   },
   "outputs": [],
   "source": [
    "from sklearn.naive_bayes import MultinomialNB #naive_bayes algorithm.\n",
    "from sklearn.pipeline import make_pipeline #making pipeline.\n",
    "from sklearn.feature_extraction.text import TfidfVectorizer #vectorizing the text using frequencies."
   ]
  },
  {
   "cell_type": "code",
   "execution_count": 17,
   "id": "382667e2",
   "metadata": {
    "execution": {
     "iopub.execute_input": "2021-08-01T11:19:21.962437Z",
     "iopub.status.busy": "2021-08-01T11:19:21.961794Z",
     "iopub.status.idle": "2021-08-01T11:19:21.964049Z",
     "shell.execute_reply": "2021-08-01T11:19:21.964496Z",
     "shell.execute_reply.started": "2021-08-01T11:04:28.42871Z"
    },
    "papermill": {
     "duration": 0.022408,
     "end_time": "2021-08-01T11:19:21.964657",
     "exception": false,
     "start_time": "2021-08-01T11:19:21.942249",
     "status": "completed"
    },
    "tags": []
   },
   "outputs": [],
   "source": [
    "#creating the model\n",
    "model=make_pipeline(TfidfVectorizer(ngram_range=(1,2)),MultinomialNB(alpha=1.0))"
   ]
  },
  {
   "cell_type": "code",
   "execution_count": 18,
   "id": "844b6f94",
   "metadata": {
    "execution": {
     "iopub.execute_input": "2021-08-01T11:19:22.030107Z",
     "iopub.status.busy": "2021-08-01T11:19:22.019603Z",
     "iopub.status.idle": "2021-08-01T11:19:22.446815Z",
     "shell.execute_reply": "2021-08-01T11:19:22.447224Z",
     "shell.execute_reply.started": "2021-08-01T11:04:28.44817Z"
    },
    "papermill": {
     "duration": 0.467326,
     "end_time": "2021-08-01T11:19:22.447391",
     "exception": false,
     "start_time": "2021-08-01T11:19:21.980065",
     "status": "completed"
    },
    "tags": []
   },
   "outputs": [
    {
     "data": {
      "text/plain": [
       "array([1, 0, 1, ..., 1, 1, 1])"
      ]
     },
     "execution_count": 18,
     "metadata": {},
     "output_type": "execute_result"
    }
   ],
   "source": [
    "model.fit(trainx,trainy)\n",
    "output=model.predict(testx)\n",
    "output"
   ]
  },
  {
   "cell_type": "code",
   "execution_count": 19,
   "id": "cb111b7e",
   "metadata": {
    "execution": {
     "iopub.execute_input": "2021-08-01T11:19:22.484327Z",
     "iopub.status.busy": "2021-08-01T11:19:22.483683Z",
     "iopub.status.idle": "2021-08-01T11:19:22.503149Z",
     "shell.execute_reply": "2021-08-01T11:19:22.503589Z",
     "shell.execute_reply.started": "2021-08-01T11:18:24.809480Z"
    },
    "papermill": {
     "duration": 0.04032,
     "end_time": "2021-08-01T11:19:22.503747",
     "exception": false,
     "start_time": "2021-08-01T11:19:22.463427",
     "status": "completed"
    },
    "tags": []
   },
   "outputs": [
    {
     "data": {
      "text/html": [
       "<div>\n",
       "<style scoped>\n",
       "    .dataframe tbody tr th:only-of-type {\n",
       "        vertical-align: middle;\n",
       "    }\n",
       "\n",
       "    .dataframe tbody tr th {\n",
       "        vertical-align: top;\n",
       "    }\n",
       "\n",
       "    .dataframe thead th {\n",
       "        text-align: right;\n",
       "    }\n",
       "</style>\n",
       "<table border=\"1\" class=\"dataframe\">\n",
       "  <thead>\n",
       "    <tr style=\"text-align: right;\">\n",
       "      <th></th>\n",
       "      <th>id</th>\n",
       "      <th>target</th>\n",
       "    </tr>\n",
       "  </thead>\n",
       "  <tbody>\n",
       "    <tr>\n",
       "      <th>0</th>\n",
       "      <td>0</td>\n",
       "      <td>0</td>\n",
       "    </tr>\n",
       "    <tr>\n",
       "      <th>1</th>\n",
       "      <td>2</td>\n",
       "      <td>0</td>\n",
       "    </tr>\n",
       "    <tr>\n",
       "      <th>2</th>\n",
       "      <td>3</td>\n",
       "      <td>0</td>\n",
       "    </tr>\n",
       "  </tbody>\n",
       "</table>\n",
       "</div>"
      ],
      "text/plain": [
       "   id  target\n",
       "0   0       0\n",
       "1   2       0\n",
       "2   3       0"
      ]
     },
     "execution_count": 19,
     "metadata": {},
     "output_type": "execute_result"
    }
   ],
   "source": [
    "submission=pd.read_csv('../input/nlp-getting-started/sample_submission.csv')\n",
    "submission.head(3)"
   ]
  },
  {
   "cell_type": "code",
   "execution_count": 20,
   "id": "44685382",
   "metadata": {
    "execution": {
     "iopub.execute_input": "2021-08-01T11:19:22.544105Z",
     "iopub.status.busy": "2021-08-01T11:19:22.543445Z",
     "iopub.status.idle": "2021-08-01T11:19:22.547686Z",
     "shell.execute_reply": "2021-08-01T11:19:22.546638Z",
     "shell.execute_reply.started": "2021-08-01T11:18:29.318381Z"
    },
    "papermill": {
     "duration": 0.027493,
     "end_time": "2021-08-01T11:19:22.547947",
     "exception": false,
     "start_time": "2021-08-01T11:19:22.520454",
     "status": "completed"
    },
    "tags": []
   },
   "outputs": [],
   "source": [
    "submission[\"target\"]=output"
   ]
  },
  {
   "cell_type": "code",
   "execution_count": 21,
   "id": "ce827988",
   "metadata": {
    "execution": {
     "iopub.execute_input": "2021-08-01T11:19:22.591478Z",
     "iopub.status.busy": "2021-08-01T11:19:22.590648Z",
     "iopub.status.idle": "2021-08-01T11:19:22.595893Z",
     "shell.execute_reply": "2021-08-01T11:19:22.595263Z",
     "shell.execute_reply.started": "2021-08-01T11:18:32.478442Z"
    },
    "papermill": {
     "duration": 0.030413,
     "end_time": "2021-08-01T11:19:22.596037",
     "exception": false,
     "start_time": "2021-08-01T11:19:22.565624",
     "status": "completed"
    },
    "tags": []
   },
   "outputs": [
    {
     "data": {
      "text/html": [
       "<div>\n",
       "<style scoped>\n",
       "    .dataframe tbody tr th:only-of-type {\n",
       "        vertical-align: middle;\n",
       "    }\n",
       "\n",
       "    .dataframe tbody tr th {\n",
       "        vertical-align: top;\n",
       "    }\n",
       "\n",
       "    .dataframe thead th {\n",
       "        text-align: right;\n",
       "    }\n",
       "</style>\n",
       "<table border=\"1\" class=\"dataframe\">\n",
       "  <thead>\n",
       "    <tr style=\"text-align: right;\">\n",
       "      <th></th>\n",
       "      <th>id</th>\n",
       "      <th>target</th>\n",
       "    </tr>\n",
       "  </thead>\n",
       "  <tbody>\n",
       "    <tr>\n",
       "      <th>0</th>\n",
       "      <td>0</td>\n",
       "      <td>1</td>\n",
       "    </tr>\n",
       "    <tr>\n",
       "      <th>1</th>\n",
       "      <td>2</td>\n",
       "      <td>0</td>\n",
       "    </tr>\n",
       "    <tr>\n",
       "      <th>2</th>\n",
       "      <td>3</td>\n",
       "      <td>1</td>\n",
       "    </tr>\n",
       "    <tr>\n",
       "      <th>3</th>\n",
       "      <td>9</td>\n",
       "      <td>1</td>\n",
       "    </tr>\n",
       "    <tr>\n",
       "      <th>4</th>\n",
       "      <td>11</td>\n",
       "      <td>1</td>\n",
       "    </tr>\n",
       "    <tr>\n",
       "      <th>5</th>\n",
       "      <td>12</td>\n",
       "      <td>1</td>\n",
       "    </tr>\n",
       "    <tr>\n",
       "      <th>6</th>\n",
       "      <td>21</td>\n",
       "      <td>0</td>\n",
       "    </tr>\n",
       "    <tr>\n",
       "      <th>7</th>\n",
       "      <td>22</td>\n",
       "      <td>0</td>\n",
       "    </tr>\n",
       "    <tr>\n",
       "      <th>8</th>\n",
       "      <td>27</td>\n",
       "      <td>0</td>\n",
       "    </tr>\n",
       "    <tr>\n",
       "      <th>9</th>\n",
       "      <td>29</td>\n",
       "      <td>0</td>\n",
       "    </tr>\n",
       "  </tbody>\n",
       "</table>\n",
       "</div>"
      ],
      "text/plain": [
       "   id  target\n",
       "0   0       1\n",
       "1   2       0\n",
       "2   3       1\n",
       "3   9       1\n",
       "4  11       1\n",
       "5  12       1\n",
       "6  21       0\n",
       "7  22       0\n",
       "8  27       0\n",
       "9  29       0"
      ]
     },
     "execution_count": 21,
     "metadata": {},
     "output_type": "execute_result"
    }
   ],
   "source": [
    "submission.head(10)"
   ]
  },
  {
   "cell_type": "code",
   "execution_count": 22,
   "id": "a7b7e450",
   "metadata": {
    "execution": {
     "iopub.execute_input": "2021-08-01T11:19:22.635537Z",
     "iopub.status.busy": "2021-08-01T11:19:22.634576Z",
     "iopub.status.idle": "2021-08-01T11:19:22.644319Z",
     "shell.execute_reply": "2021-08-01T11:19:22.644816Z",
     "shell.execute_reply.started": "2021-08-01T11:18:49.728492Z"
    },
    "papermill": {
     "duration": 0.031144,
     "end_time": "2021-08-01T11:19:22.644998",
     "exception": false,
     "start_time": "2021-08-01T11:19:22.613854",
     "status": "completed"
    },
    "tags": []
   },
   "outputs": [],
   "source": [
    "submission.to_csv(\"nlp_submission.csv\",index=False)"
   ]
  }
 ],
 "metadata": {
  "kernelspec": {
   "display_name": "Python 3",
   "language": "python",
   "name": "python3"
  },
  "language_info": {
   "codemirror_mode": {
    "name": "ipython",
    "version": 3
   },
   "file_extension": ".py",
   "mimetype": "text/x-python",
   "name": "python",
   "nbconvert_exporter": "python",
   "pygments_lexer": "ipython3",
   "version": "3.7.10"
  },
  "papermill": {
   "default_parameters": {},
   "duration": 14.805999,
   "end_time": "2021-08-01T11:19:24.207379",
   "environment_variables": {},
   "exception": null,
   "input_path": "__notebook__.ipynb",
   "output_path": "__notebook__.ipynb",
   "parameters": {},
   "start_time": "2021-08-01T11:19:09.401380",
   "version": "2.3.3"
  }
 },
 "nbformat": 4,
 "nbformat_minor": 5
}
